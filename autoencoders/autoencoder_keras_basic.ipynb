{
 "cells": [
  {
   "cell_type": "code",
   "execution_count": 15,
   "metadata": {},
   "outputs": [],
   "source": [
    "from keras.layers import Input, Dense\n",
    "from keras.models import Model\n",
    "\n",
    "# this is the size of our encoded representations\n",
    "encoding_dim = 32  # 32 floats -> compression of factor 24.5, assuming the input is 784 floats\n",
    "\n",
    "# this is our input placeholder\n",
    "input_img = Input(shape=(784,))\n",
    "# \"encoded\" is the encoded representation of the input\n",
    "encoded = Dense(encoding_dim, activation='relu')(input_img)\n",
    "# \"decoded\" is the lossy reconstruction of the input\n",
    "decoded = Dense(784, activation='sigmoid')(encoded)\n",
    "\n",
    "# this model maps an input to its reconstruction\n",
    "autoencoder = Model(input_img, decoded)"
   ]
  },
  {
   "cell_type": "code",
   "execution_count": 16,
   "metadata": {},
   "outputs": [],
   "source": [
    "encoder = Model(input_img, encoded)"
   ]
  },
  {
   "cell_type": "code",
   "execution_count": 17,
   "metadata": {},
   "outputs": [],
   "source": [
    "# create a placeholder for an encoded (32-dimensional) input\n",
    "encoded_input = Input(shape=(encoding_dim,))\n",
    "# retrieve the last layer of the autoencoder model\n",
    "decoder_layer = autoencoder.layers[-1]\n",
    "# create the decoder model\n",
    "decoder = Model(encoded_input, decoder_layer(encoded_input))"
   ]
  },
  {
   "cell_type": "code",
   "execution_count": 18,
   "metadata": {},
   "outputs": [],
   "source": [
    "autoencoder.compile(optimizer='adadelta', loss='binary_crossentropy')\n"
   ]
  },
  {
   "cell_type": "code",
   "execution_count": 19,
   "metadata": {},
   "outputs": [],
   "source": [
    "from keras.datasets import mnist\n",
    "import numpy as np\n",
    "(x_train, _), (x_test, _) = mnist.load_data()"
   ]
  },
  {
   "cell_type": "code",
   "execution_count": 20,
   "metadata": {},
   "outputs": [
    {
     "name": "stdout",
     "output_type": "stream",
     "text": [
      "(60000, 784)\n",
      "(10000, 784)\n"
     ]
    }
   ],
   "source": [
    "x_train = x_train.astype('float32') / 255.\n",
    "x_test = x_test.astype('float32') / 255.\n",
    "x_train = x_train.reshape((len(x_train), np.prod(x_train.shape[1:])))\n",
    "x_test = x_test.reshape((len(x_test), np.prod(x_test.shape[1:])))\n",
    "print (x_train.shape)\n",
    "print (x_test.shape)"
   ]
  },
  {
   "cell_type": "code",
   "execution_count": 21,
   "metadata": {},
   "outputs": [
    {
     "name": "stdout",
     "output_type": "stream",
     "text": [
      "Train on 60000 samples, validate on 10000 samples\n",
      "Epoch 1/50\n",
      "60000/60000 [==============================] - 7s 119us/step - loss: 0.3624 - val_loss: 0.2711\n",
      "Epoch 2/50\n",
      "60000/60000 [==============================] - 3s 56us/step - loss: 0.2638 - val_loss: 0.2530\n",
      "Epoch 3/50\n",
      "60000/60000 [==============================] - 3s 55us/step - loss: 0.2423 - val_loss: 0.2297\n",
      "Epoch 4/50\n",
      "60000/60000 [==============================] - 3s 56us/step - loss: 0.2216 - val_loss: 0.2118\n",
      "Epoch 5/50\n",
      "60000/60000 [==============================] - 3s 52us/step - loss: 0.2069 - val_loss: 0.1996\n",
      "Epoch 6/50\n",
      "60000/60000 [==============================] - 3s 52us/step - loss: 0.1963 - val_loss: 0.1903\n",
      "Epoch 7/50\n",
      "60000/60000 [==============================] - 3s 52us/step - loss: 0.1881 - val_loss: 0.1830\n",
      "Epoch 8/50\n",
      "60000/60000 [==============================] - 3s 55us/step - loss: 0.1814 - val_loss: 0.1771\n",
      "Epoch 9/50\n",
      "60000/60000 [==============================] - 3s 56us/step - loss: 0.1757 - val_loss: 0.1719\n",
      "Epoch 10/50\n",
      "60000/60000 [==============================] - 3s 55us/step - loss: 0.1709 - val_loss: 0.1673\n",
      "Epoch 11/50\n",
      "60000/60000 [==============================] - 3s 55us/step - loss: 0.1667 - val_loss: 0.1634\n",
      "Epoch 12/50\n",
      "60000/60000 [==============================] - 3s 57us/step - loss: 0.1629 - val_loss: 0.1597\n",
      "Epoch 13/50\n",
      "60000/60000 [==============================] - 3s 58us/step - loss: 0.1594 - val_loss: 0.1565\n",
      "Epoch 14/50\n",
      "60000/60000 [==============================] - 3s 56us/step - loss: 0.1562 - val_loss: 0.1532\n",
      "Epoch 15/50\n",
      "60000/60000 [==============================] - 3s 53us/step - loss: 0.1531 - val_loss: 0.1502\n",
      "Epoch 16/50\n",
      "60000/60000 [==============================] - 3s 53us/step - loss: 0.1502 - val_loss: 0.1475\n",
      "Epoch 17/50\n",
      "60000/60000 [==============================] - 3s 52us/step - loss: 0.1475 - val_loss: 0.1447\n",
      "Epoch 18/50\n",
      "60000/60000 [==============================] - 3s 56us/step - loss: 0.1449 - val_loss: 0.1422\n",
      "Epoch 19/50\n",
      "60000/60000 [==============================] - 3s 54us/step - loss: 0.1424 - val_loss: 0.1398\n",
      "Epoch 20/50\n",
      "60000/60000 [==============================] - 3s 52us/step - loss: 0.1401 - val_loss: 0.1376\n",
      "Epoch 21/50\n",
      "60000/60000 [==============================] - 3s 52us/step - loss: 0.1379 - val_loss: 0.1353\n",
      "Epoch 22/50\n",
      "60000/60000 [==============================] - 3s 53us/step - loss: 0.1358 - val_loss: 0.1333\n",
      "Epoch 23/50\n",
      "60000/60000 [==============================] - 3s 56us/step - loss: 0.1338 - val_loss: 0.1313\n",
      "Epoch 24/50\n",
      "60000/60000 [==============================] - 3s 54us/step - loss: 0.1319 - val_loss: 0.1295\n",
      "Epoch 25/50\n",
      "60000/60000 [==============================] - 3s 53us/step - loss: 0.1301 - val_loss: 0.1276\n",
      "Epoch 26/50\n",
      "60000/60000 [==============================] - 3s 52us/step - loss: 0.1283 - val_loss: 0.1259\n",
      "Epoch 27/50\n",
      "60000/60000 [==============================] - 3s 52us/step - loss: 0.1267 - val_loss: 0.1243\n",
      "Epoch 28/50\n",
      "60000/60000 [==============================] - 3s 56us/step - loss: 0.1251 - val_loss: 0.1228\n",
      "Epoch 29/50\n",
      "60000/60000 [==============================] - 3s 54us/step - loss: 0.1236 - val_loss: 0.1212\n",
      "Epoch 30/50\n",
      "60000/60000 [==============================] - 3s 53us/step - loss: 0.1222 - val_loss: 0.1199\n",
      "Epoch 31/50\n",
      "60000/60000 [==============================] - 3s 51us/step - loss: 0.1208 - val_loss: 0.1185\n",
      "Epoch 32/50\n",
      "60000/60000 [==============================] - 3s 52us/step - loss: 0.1196 - val_loss: 0.1173\n",
      "Epoch 33/50\n",
      "60000/60000 [==============================] - 3s 54us/step - loss: 0.1184 - val_loss: 0.1162\n",
      "Epoch 34/50\n",
      "60000/60000 [==============================] - 3s 54us/step - loss: 0.1173 - val_loss: 0.1151\n",
      "Epoch 35/50\n",
      "60000/60000 [==============================] - 3s 52us/step - loss: 0.1163 - val_loss: 0.1142\n",
      "Epoch 36/50\n",
      "60000/60000 [==============================] - 3s 53us/step - loss: 0.1154 - val_loss: 0.1133\n",
      "Epoch 37/50\n",
      "60000/60000 [==============================] - 3s 52us/step - loss: 0.1146 - val_loss: 0.1125\n",
      "Epoch 38/50\n",
      "60000/60000 [==============================] - 3s 57us/step - loss: 0.1138 - val_loss: 0.1117\n",
      "Epoch 39/50\n",
      "60000/60000 [==============================] - 3s 55us/step - loss: 0.1130 - val_loss: 0.1110\n",
      "Epoch 40/50\n",
      "60000/60000 [==============================] - 3s 51us/step - loss: 0.1124 - val_loss: 0.1103\n",
      "Epoch 41/50\n",
      "60000/60000 [==============================] - 3s 52us/step - loss: 0.1118 - val_loss: 0.1097\n",
      "Epoch 42/50\n",
      "60000/60000 [==============================] - 3s 52us/step - loss: 0.1112 - val_loss: 0.1092\n",
      "Epoch 43/50\n",
      "60000/60000 [==============================] - 3s 55us/step - loss: 0.1107 - val_loss: 0.1087\n",
      "Epoch 44/50\n",
      "60000/60000 [==============================] - 3s 55us/step - loss: 0.1102 - val_loss: 0.1082\n",
      "Epoch 45/50\n",
      "60000/60000 [==============================] - 3s 53us/step - loss: 0.1097 - val_loss: 0.1078\n",
      "Epoch 46/50\n",
      "60000/60000 [==============================] - 3s 52us/step - loss: 0.1093 - val_loss: 0.1074\n",
      "Epoch 47/50\n",
      "60000/60000 [==============================] - 3s 53us/step - loss: 0.1089 - val_loss: 0.1070\n",
      "Epoch 48/50\n",
      "60000/60000 [==============================] - 3s 57us/step - loss: 0.1085 - val_loss: 0.1066\n",
      "Epoch 49/50\n",
      "60000/60000 [==============================] - 3s 58us/step - loss: 0.1082 - val_loss: 0.1062\n",
      "Epoch 50/50\n",
      "60000/60000 [==============================] - 3s 53us/step - loss: 0.1078 - val_loss: 0.1059\n"
     ]
    },
    {
     "data": {
      "text/plain": [
       "<keras.callbacks.callbacks.History at 0x11cb7b00eb8>"
      ]
     },
     "execution_count": 21,
     "metadata": {},
     "output_type": "execute_result"
    }
   ],
   "source": [
    "autoencoder.fit(x_train, x_train,\n",
    "                epochs=50,\n",
    "                batch_size=256,\n",
    "                shuffle=True,\n",
    "                validation_data=(x_test, x_test))"
   ]
  },
  {
   "cell_type": "code",
   "execution_count": 23,
   "metadata": {},
   "outputs": [],
   "source": [
    "# encode and decode some digits\n",
    "# note that we take them from the *test* set\n",
    "encoded_imgs = encoder.predict(x_test)\n",
    "decoded_imgs = decoder.predict(encoded_imgs)"
   ]
  },
  {
   "cell_type": "code",
   "execution_count": 24,
   "metadata": {},
   "outputs": [
    {
     "data": {
      "image/png": "[encoded data removed]",
      "text/plain": [
       "<Figure size 1440x288 with 20 Axes>"
      ]
     },
     "metadata": {
      "needs_background": "light"
     },
     "output_type": "display_data"
    }
   ],
   "source": [
    "# use Matplotlib (don't ask)\n",
    "import matplotlib.pyplot as plt\n",
    "\n",
    "n = 10  # how many digits we will display\n",
    "plt.figure(figsize=(20, 4))\n",
    "for i in range(n):\n",
    "    # display original\n",
    "    ax = plt.subplot(2, n, i + 1)\n",
    "    plt.imshow(x_test[i].reshape(28, 28))\n",
    "    plt.gray()\n",
    "    ax.get_xaxis().set_visible(False)\n",
    "    ax.get_yaxis().set_visible(False)\n",
    "\n",
    "    # display reconstruction\n",
    "    ax = plt.subplot(2, n, i + 1 + n)\n",
    "    plt.imshow(decoded_imgs[i].reshape(28, 28))\n",
    "    plt.gray()\n",
    "    ax.get_xaxis().set_visible(False)\n",
    "    ax.get_yaxis().set_visible(False)\n",
    "plt.show()"
   ]
  },
  {
   "cell_type": "code",
   "execution_count": null,
   "metadata": {},
   "outputs": [],
   "source": []
  }
 ],
 "metadata": {
  "kernelspec": {
   "display_name": "Python 3",
   "language": "python",
   "name": "python3"
  },
  "language_info": {
   "codemirror_mode": {
    "name": "ipython",
    "version": 3
   },
   "file_extension": ".py",
   "mimetype": "text/x-python",
   "name": "python",
   "nbconvert_exporter": "python",
   "pygments_lexer": "ipython3",
   "version": "3.7.1"
  }
 },
 "nbformat": 4,
 "nbformat_minor": 2
}
